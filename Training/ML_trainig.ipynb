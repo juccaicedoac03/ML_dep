{
  "cells": [
    {
      "cell_type": "markdown",
      "metadata": {
        "id": "view-in-github",
        "colab_type": "text"
      },
      "source": [
        "<a href=\"https://colab.research.google.com/github/juccaicedoac03/ML_dep/blob/main/Training/ML_trainig.ipynb\" target=\"_parent\"><img src=\"https://colab.research.google.com/assets/colab-badge.svg\" alt=\"Open In Colab\"/></a>"
      ]
    },
    {
      "cell_type": "markdown",
      "metadata": {
        "id": "rM9HJYyVywDN"
      },
      "source": [
        "#Import libraries"
      ]
    },
    {
      "cell_type": "code",
      "execution_count": 1,
      "metadata": {
        "colab": {
          "base_uri": "https://localhost:8080/"
        },
        "id": "hpHE4SDMwgC5",
        "outputId": "d2d3f1c2-5703-45f8-eb99-83a488e15c3f"
      },
      "outputs": [
        {
          "output_type": "stream",
          "name": "stdout",
          "text": [
            "  Running command git clone -q https://github.com/juccaicedoac03/ML_dep.git /tmp/pip-req-build-0gddclzd\n"
          ]
        }
      ],
      "source": [
        "!pip install -U git+https://github.com/juccaicedoac03/ML_dep.git >/dev/null"
      ]
    },
    {
      "cell_type": "code",
      "execution_count": 2,
      "metadata": {
        "id": "4j9HdvkByuqB"
      },
      "outputs": [],
      "source": [
        "import numpy as np\n",
        "import tensorflow as tf\n",
        "import matplotlib.pyplot as plt\n",
        "import pandas as pd\n",
        "import seaborn as sns\n",
        "from datetime import datetime\n",
        "from sklearn.ensemble import RandomForestClassifier\n",
        "from sklearn.model_selection import train_test_split\n",
        "from sklearn.metrics import f1_score\n",
        "from sklearn.metrics import confusion_matrix,ConfusionMatrixDisplay,accuracy_score,roc_auc_score\n",
        "from sklearn.model_selection import GridSearchCV\n",
        "from sklearn.base import  BaseEstimator, TransformerMixin, ClassifierMixin\n",
        "from imblearn.over_sampling import SMOTE,BorderlineSMOTE\n",
        "import pickle\n",
        "from ML_dep.Utils import remove_duplicates,get_df_unique,timeConverter,get_scores"
      ]
    },
    {
      "cell_type": "markdown",
      "metadata": {
        "id": "9lR2DbaQy694"
      },
      "source": [
        "#Download data"
      ]
    },
    {
      "cell_type": "code",
      "execution_count": 3,
      "metadata": {
        "colab": {
          "base_uri": "https://localhost:8080/"
        },
        "id": "0yiSZRjKy4WT",
        "outputId": "7d14c7a3-9fc5-45fa-f013-09b285ce2796"
      },
      "outputs": [
        {
          "output_type": "stream",
          "name": "stdout",
          "text": [
            "/usr/local/lib/python3.7/dist-packages/gdown/cli.py:131: FutureWarning: Option `--id` was deprecated in version 4.3.1 and will be removed in 5.0. You don't need to pass it anymore to use a file ID.\n",
            "  category=FutureWarning,\n",
            "Downloading...\n",
            "From: https://drive.google.com/uc?id=1QhadhG5go0l-pTEVrDmfIYEoZjP8ygAg\n",
            "To: /content/datase.csv\n",
            "100% 9.79M/9.79M [00:01<00:00, 7.19MB/s]\n",
            "/usr/local/lib/python3.7/dist-packages/gdown/cli.py:131: FutureWarning: Option `--id` was deprecated in version 4.3.1 and will be removed in 5.0. You don't need to pass it anymore to use a file ID.\n",
            "  category=FutureWarning,\n",
            "Downloading...\n",
            "From: https://drive.google.com/uc?id=1eOdY-XCJATQFaiB94zFemJJkbZLB8aVZ\n",
            "To: /content/orders_test.csv\n",
            "100% 2.39M/2.39M [00:00<00:00, 223MB/s]\n"
          ]
        }
      ],
      "source": [
        "!gdown --id 1QhadhG5go0l-pTEVrDmfIYEoZjP8ygAg ## Data train\n",
        "!gdown --id 1eOdY-XCJATQFaiB94zFemJJkbZLB8aVZ ## Data test"
      ]
    },
    {
      "cell_type": "markdown",
      "metadata": {
        "id": "Aa-zA_dQzDKi"
      },
      "source": [
        "#EDA"
      ]
    },
    {
      "cell_type": "code",
      "execution_count": 4,
      "metadata": {
        "id": "nAqDU30YzORD"
      },
      "outputs": [],
      "source": [
        "X_row = pd.read_csv('/content/datase.csv')"
      ]
    },
    {
      "cell_type": "code",
      "execution_count": 5,
      "metadata": {
        "colab": {
          "base_uri": "https://localhost:8080/",
          "height": 419
        },
        "id": "VSo5nNxkzT0x",
        "outputId": "1849504e-4254-43aa-9d82-55e94fe8c44e"
      },
      "outputs": [
        {
          "output_type": "execute_result",
          "data": {
            "text/plain": [
              "        order_id   store_id  to_user_distance  to_user_elevation  \\\n",
              "0       14924129  900007722          2.188069          43.430176   \n",
              "1       15517560  900008156          0.970423          64.589722   \n",
              "2       15365462  900004503          2.699022         257.006104   \n",
              "3       14245605  900015422          0.725768         -42.870361   \n",
              "4       15213594  900011745          0.750715         -34.016602   \n",
              "...          ...        ...               ...                ...   \n",
              "117584  15048263  900009494          0.402109         -22.629395   \n",
              "117585  15789217  900008201          0.374944          -4.408203   \n",
              "117586  15636112  900009494          2.836608         -89.113770   \n",
              "117587  14639888   30000253          2.724799          21.098999   \n",
              "117588  15590745  900012699          2.205824          91.403564   \n",
              "\n",
              "        total_earning            created_at  taken  \n",
              "0                5500  2017-09-17T14:36:51Z      1  \n",
              "1                5200  2017-09-28T12:33:04Z      1  \n",
              "2                6700  2017-09-25T12:43:57Z      1  \n",
              "3                3200  2017-09-05T17:17:09Z      1  \n",
              "4                5700  2017-09-22T21:38:58Z      1  \n",
              "...               ...                   ...    ...  \n",
              "117584           6200  2017-09-19T19:42:54Z      1  \n",
              "117585           3200  2017-10-02T18:29:02Z      1  \n",
              "117586           8050  2017-09-30T13:11:03Z      0  \n",
              "117587           3900  2017-09-12T12:33:08Z      0  \n",
              "117588           4350  2017-09-29T17:35:00Z      0  \n",
              "\n",
              "[117589 rows x 7 columns]"
            ],
            "text/html": [
              "\n",
              "  <div id=\"df-743ed7f0-91fd-4754-94c8-dd79504c651a\">\n",
              "    <div class=\"colab-df-container\">\n",
              "      <div>\n",
              "<style scoped>\n",
              "    .dataframe tbody tr th:only-of-type {\n",
              "        vertical-align: middle;\n",
              "    }\n",
              "\n",
              "    .dataframe tbody tr th {\n",
              "        vertical-align: top;\n",
              "    }\n",
              "\n",
              "    .dataframe thead th {\n",
              "        text-align: right;\n",
              "    }\n",
              "</style>\n",
              "<table border=\"1\" class=\"dataframe\">\n",
              "  <thead>\n",
              "    <tr style=\"text-align: right;\">\n",
              "      <th></th>\n",
              "      <th>order_id</th>\n",
              "      <th>store_id</th>\n",
              "      <th>to_user_distance</th>\n",
              "      <th>to_user_elevation</th>\n",
              "      <th>total_earning</th>\n",
              "      <th>created_at</th>\n",
              "      <th>taken</th>\n",
              "    </tr>\n",
              "  </thead>\n",
              "  <tbody>\n",
              "    <tr>\n",
              "      <th>0</th>\n",
              "      <td>14924129</td>\n",
              "      <td>900007722</td>\n",
              "      <td>2.188069</td>\n",
              "      <td>43.430176</td>\n",
              "      <td>5500</td>\n",
              "      <td>2017-09-17T14:36:51Z</td>\n",
              "      <td>1</td>\n",
              "    </tr>\n",
              "    <tr>\n",
              "      <th>1</th>\n",
              "      <td>15517560</td>\n",
              "      <td>900008156</td>\n",
              "      <td>0.970423</td>\n",
              "      <td>64.589722</td>\n",
              "      <td>5200</td>\n",
              "      <td>2017-09-28T12:33:04Z</td>\n",
              "      <td>1</td>\n",
              "    </tr>\n",
              "    <tr>\n",
              "      <th>2</th>\n",
              "      <td>15365462</td>\n",
              "      <td>900004503</td>\n",
              "      <td>2.699022</td>\n",
              "      <td>257.006104</td>\n",
              "      <td>6700</td>\n",
              "      <td>2017-09-25T12:43:57Z</td>\n",
              "      <td>1</td>\n",
              "    </tr>\n",
              "    <tr>\n",
              "      <th>3</th>\n",
              "      <td>14245605</td>\n",
              "      <td>900015422</td>\n",
              "      <td>0.725768</td>\n",
              "      <td>-42.870361</td>\n",
              "      <td>3200</td>\n",
              "      <td>2017-09-05T17:17:09Z</td>\n",
              "      <td>1</td>\n",
              "    </tr>\n",
              "    <tr>\n",
              "      <th>4</th>\n",
              "      <td>15213594</td>\n",
              "      <td>900011745</td>\n",
              "      <td>0.750715</td>\n",
              "      <td>-34.016602</td>\n",
              "      <td>5700</td>\n",
              "      <td>2017-09-22T21:38:58Z</td>\n",
              "      <td>1</td>\n",
              "    </tr>\n",
              "    <tr>\n",
              "      <th>...</th>\n",
              "      <td>...</td>\n",
              "      <td>...</td>\n",
              "      <td>...</td>\n",
              "      <td>...</td>\n",
              "      <td>...</td>\n",
              "      <td>...</td>\n",
              "      <td>...</td>\n",
              "    </tr>\n",
              "    <tr>\n",
              "      <th>117584</th>\n",
              "      <td>15048263</td>\n",
              "      <td>900009494</td>\n",
              "      <td>0.402109</td>\n",
              "      <td>-22.629395</td>\n",
              "      <td>6200</td>\n",
              "      <td>2017-09-19T19:42:54Z</td>\n",
              "      <td>1</td>\n",
              "    </tr>\n",
              "    <tr>\n",
              "      <th>117585</th>\n",
              "      <td>15789217</td>\n",
              "      <td>900008201</td>\n",
              "      <td>0.374944</td>\n",
              "      <td>-4.408203</td>\n",
              "      <td>3200</td>\n",
              "      <td>2017-10-02T18:29:02Z</td>\n",
              "      <td>1</td>\n",
              "    </tr>\n",
              "    <tr>\n",
              "      <th>117586</th>\n",
              "      <td>15636112</td>\n",
              "      <td>900009494</td>\n",
              "      <td>2.836608</td>\n",
              "      <td>-89.113770</td>\n",
              "      <td>8050</td>\n",
              "      <td>2017-09-30T13:11:03Z</td>\n",
              "      <td>0</td>\n",
              "    </tr>\n",
              "    <tr>\n",
              "      <th>117587</th>\n",
              "      <td>14639888</td>\n",
              "      <td>30000253</td>\n",
              "      <td>2.724799</td>\n",
              "      <td>21.098999</td>\n",
              "      <td>3900</td>\n",
              "      <td>2017-09-12T12:33:08Z</td>\n",
              "      <td>0</td>\n",
              "    </tr>\n",
              "    <tr>\n",
              "      <th>117588</th>\n",
              "      <td>15590745</td>\n",
              "      <td>900012699</td>\n",
              "      <td>2.205824</td>\n",
              "      <td>91.403564</td>\n",
              "      <td>4350</td>\n",
              "      <td>2017-09-29T17:35:00Z</td>\n",
              "      <td>0</td>\n",
              "    </tr>\n",
              "  </tbody>\n",
              "</table>\n",
              "<p>117589 rows × 7 columns</p>\n",
              "</div>\n",
              "      <button class=\"colab-df-convert\" onclick=\"convertToInteractive('df-743ed7f0-91fd-4754-94c8-dd79504c651a')\"\n",
              "              title=\"Convert this dataframe to an interactive table.\"\n",
              "              style=\"display:none;\">\n",
              "        \n",
              "  <svg xmlns=\"http://www.w3.org/2000/svg\" height=\"24px\"viewBox=\"0 0 24 24\"\n",
              "       width=\"24px\">\n",
              "    <path d=\"M0 0h24v24H0V0z\" fill=\"none\"/>\n",
              "    <path d=\"M18.56 5.44l.94 2.06.94-2.06 2.06-.94-2.06-.94-.94-2.06-.94 2.06-2.06.94zm-11 1L8.5 8.5l.94-2.06 2.06-.94-2.06-.94L8.5 2.5l-.94 2.06-2.06.94zm10 10l.94 2.06.94-2.06 2.06-.94-2.06-.94-.94-2.06-.94 2.06-2.06.94z\"/><path d=\"M17.41 7.96l-1.37-1.37c-.4-.4-.92-.59-1.43-.59-.52 0-1.04.2-1.43.59L10.3 9.45l-7.72 7.72c-.78.78-.78 2.05 0 2.83L4 21.41c.39.39.9.59 1.41.59.51 0 1.02-.2 1.41-.59l7.78-7.78 2.81-2.81c.8-.78.8-2.07 0-2.86zM5.41 20L4 18.59l7.72-7.72 1.47 1.35L5.41 20z\"/>\n",
              "  </svg>\n",
              "      </button>\n",
              "      \n",
              "  <style>\n",
              "    .colab-df-container {\n",
              "      display:flex;\n",
              "      flex-wrap:wrap;\n",
              "      gap: 12px;\n",
              "    }\n",
              "\n",
              "    .colab-df-convert {\n",
              "      background-color: #E8F0FE;\n",
              "      border: none;\n",
              "      border-radius: 50%;\n",
              "      cursor: pointer;\n",
              "      display: none;\n",
              "      fill: #1967D2;\n",
              "      height: 32px;\n",
              "      padding: 0 0 0 0;\n",
              "      width: 32px;\n",
              "    }\n",
              "\n",
              "    .colab-df-convert:hover {\n",
              "      background-color: #E2EBFA;\n",
              "      box-shadow: 0px 1px 2px rgba(60, 64, 67, 0.3), 0px 1px 3px 1px rgba(60, 64, 67, 0.15);\n",
              "      fill: #174EA6;\n",
              "    }\n",
              "\n",
              "    [theme=dark] .colab-df-convert {\n",
              "      background-color: #3B4455;\n",
              "      fill: #D2E3FC;\n",
              "    }\n",
              "\n",
              "    [theme=dark] .colab-df-convert:hover {\n",
              "      background-color: #434B5C;\n",
              "      box-shadow: 0px 1px 3px 1px rgba(0, 0, 0, 0.15);\n",
              "      filter: drop-shadow(0px 1px 2px rgba(0, 0, 0, 0.3));\n",
              "      fill: #FFFFFF;\n",
              "    }\n",
              "  </style>\n",
              "\n",
              "      <script>\n",
              "        const buttonEl =\n",
              "          document.querySelector('#df-743ed7f0-91fd-4754-94c8-dd79504c651a button.colab-df-convert');\n",
              "        buttonEl.style.display =\n",
              "          google.colab.kernel.accessAllowed ? 'block' : 'none';\n",
              "\n",
              "        async function convertToInteractive(key) {\n",
              "          const element = document.querySelector('#df-743ed7f0-91fd-4754-94c8-dd79504c651a');\n",
              "          const dataTable =\n",
              "            await google.colab.kernel.invokeFunction('convertToInteractive',\n",
              "                                                     [key], {});\n",
              "          if (!dataTable) return;\n",
              "\n",
              "          const docLinkHtml = 'Like what you see? Visit the ' +\n",
              "            '<a target=\"_blank\" href=https://colab.research.google.com/notebooks/data_table.ipynb>data table notebook</a>'\n",
              "            + ' to learn more about interactive tables.';\n",
              "          element.innerHTML = '';\n",
              "          dataTable['output_type'] = 'display_data';\n",
              "          await google.colab.output.renderOutput(dataTable, element);\n",
              "          const docLink = document.createElement('div');\n",
              "          docLink.innerHTML = docLinkHtml;\n",
              "          element.appendChild(docLink);\n",
              "        }\n",
              "      </script>\n",
              "    </div>\n",
              "  </div>\n",
              "  "
            ]
          },
          "metadata": {},
          "execution_count": 5
        }
      ],
      "source": [
        "X_row"
      ]
    },
    {
      "cell_type": "code",
      "execution_count": 6,
      "metadata": {
        "colab": {
          "base_uri": "https://localhost:8080/"
        },
        "id": "LI815MJzzZOi",
        "outputId": "45c34cbe-2372-48f9-f9ea-f3b5675ba7d5"
      },
      "outputs": [
        {
          "output_type": "stream",
          "name": "stdout",
          "text": [
            "(117589,) (117552,)\n",
            "There are duplicated rows!\n"
          ]
        }
      ],
      "source": [
        "print(X_row['order_id'].shape,np.unique(X_row['order_id']).shape)\n",
        "print('There are duplicated rows!')"
      ]
    },
    {
      "cell_type": "markdown",
      "metadata": {
        "id": "mW431-_TzIcg"
      },
      "source": [
        "##Remove duplicates"
      ]
    },
    {
      "cell_type": "code",
      "execution_count": 7,
      "metadata": {
        "colab": {
          "base_uri": "https://localhost:8080/",
          "height": 334
        },
        "id": "lfJ39mXrzNcc",
        "outputId": "79c68b31-62e4-43ce-9591-2612de545c62"
      },
      "outputs": [
        {
          "output_type": "display_data",
          "data": {
            "text/plain": [
              "<Figure size 1080x360 with 1 Axes>"
            ],
            "image/png": "[encoded data removed]"
          },
          "metadata": {
            "needs_background": "light"
          }
        }
      ],
      "source": [
        "orders, orders_count = np.unique(X_row['order_id'],return_counts=True)\n",
        "\n",
        "plt.figure(figsize=(15,5))\n",
        "plt.plot(orders_count)\n",
        "plt.ylabel('Order Times')\n",
        "plt.xlabel('Order idx')\n",
        "#plt.xticks(np.linspace(0,X_row.shape[0],X_row.shape[0]))\n",
        "plt.show()"
      ]
    },
    {
      "cell_type": "markdown",
      "metadata": {
        "id": "65csl0g1zuP7"
      },
      "source": [
        "Remove duplicated orders\n",
        "\n",
        "There's two options:\n",
        "\n",
        "1. An order failed and it was retake\n",
        "2. An order failed and it was canceled\n",
        "\n",
        "we will take the latest order status."
      ]
    },
    {
      "cell_type": "code",
      "execution_count": 8,
      "metadata": {
        "colab": {
          "base_uri": "https://localhost:8080/",
          "height": 419
        },
        "id": "0h3MPQoty_Fw",
        "outputId": "58305762-51df-469e-fe29-0ceb1d23d472"
      },
      "outputs": [
        {
          "output_type": "execute_result",
          "data": {
            "text/plain": [
              "        order_id   store_id  to_user_distance  to_user_elevation  \\\n",
              "0       14924129  900007722          2.188069          43.430176   \n",
              "1       15517560  900008156          0.970423          64.589722   \n",
              "2       15365462  900004503          2.699022         257.006104   \n",
              "3       14245605  900015422          0.725768         -42.870361   \n",
              "4       15213594  900011745          0.750715         -34.016602   \n",
              "...          ...        ...               ...                ...   \n",
              "116465  15836414  900009494          2.687707        -124.098389   \n",
              "11666   15836701  900007604          0.651611          -1.937866   \n",
              "65294   15886206  900010570          0.857461          -1.796753   \n",
              "63037   14342791  900005727          1.093874         -26.469238   \n",
              "53842   15031281  900006856          1.298663         -19.701050   \n",
              "\n",
              "        total_earning            created_at  taken  \n",
              "0                5500  2017-09-17T14:36:51Z      1  \n",
              "1                5200  2017-09-28T12:33:04Z      1  \n",
              "2                6700  2017-09-25T12:43:57Z      1  \n",
              "3                3200  2017-09-05T17:17:09Z      1  \n",
              "4                5700  2017-09-22T21:38:58Z      1  \n",
              "...               ...                   ...    ...  \n",
              "116465           9050  2017-10-03T19:03:06Z      1  \n",
              "11666            9200  2017-10-03T19:30:06Z      1  \n",
              "65294            3200  2017-10-04T19:23:08Z      1  \n",
              "63037            3200  2017-09-07T17:43:06Z      0  \n",
              "53842            5500  2017-09-19T15:36:49Z      0  \n",
              "\n",
              "[117552 rows x 7 columns]"
            ],
            "text/html": [
              "\n",
              "  <div id=\"df-c7e6b7c0-2cd7-4a2d-873d-38b0a48518d8\">\n",
              "    <div class=\"colab-df-container\">\n",
              "      <div>\n",
              "<style scoped>\n",
              "    .dataframe tbody tr th:only-of-type {\n",
              "        vertical-align: middle;\n",
              "    }\n",
              "\n",
              "    .dataframe tbody tr th {\n",
              "        vertical-align: top;\n",
              "    }\n",
              "\n",
              "    .dataframe thead th {\n",
              "        text-align: right;\n",
              "    }\n",
              "</style>\n",
              "<table border=\"1\" class=\"dataframe\">\n",
              "  <thead>\n",
              "    <tr style=\"text-align: right;\">\n",
              "      <th></th>\n",
              "      <th>order_id</th>\n",
              "      <th>store_id</th>\n",
              "      <th>to_user_distance</th>\n",
              "      <th>to_user_elevation</th>\n",
              "      <th>total_earning</th>\n",
              "      <th>created_at</th>\n",
              "      <th>taken</th>\n",
              "    </tr>\n",
              "  </thead>\n",
              "  <tbody>\n",
              "    <tr>\n",
              "      <th>0</th>\n",
              "      <td>14924129</td>\n",
              "      <td>900007722</td>\n",
              "      <td>2.188069</td>\n",
              "      <td>43.430176</td>\n",
              "      <td>5500</td>\n",
              "      <td>2017-09-17T14:36:51Z</td>\n",
              "      <td>1</td>\n",
              "    </tr>\n",
              "    <tr>\n",
              "      <th>1</th>\n",
              "      <td>15517560</td>\n",
              "      <td>900008156</td>\n",
              "      <td>0.970423</td>\n",
              "      <td>64.589722</td>\n",
              "      <td>5200</td>\n",
              "      <td>2017-09-28T12:33:04Z</td>\n",
              "      <td>1</td>\n",
              "    </tr>\n",
              "    <tr>\n",
              "      <th>2</th>\n",
              "      <td>15365462</td>\n",
              "      <td>900004503</td>\n",
              "      <td>2.699022</td>\n",
              "      <td>257.006104</td>\n",
              "      <td>6700</td>\n",
              "      <td>2017-09-25T12:43:57Z</td>\n",
              "      <td>1</td>\n",
              "    </tr>\n",
              "    <tr>\n",
              "      <th>3</th>\n",
              "      <td>14245605</td>\n",
              "      <td>900015422</td>\n",
              "      <td>0.725768</td>\n",
              "      <td>-42.870361</td>\n",
              "      <td>3200</td>\n",
              "      <td>2017-09-05T17:17:09Z</td>\n",
              "      <td>1</td>\n",
              "    </tr>\n",
              "    <tr>\n",
              "      <th>4</th>\n",
              "      <td>15213594</td>\n",
              "      <td>900011745</td>\n",
              "      <td>0.750715</td>\n",
              "      <td>-34.016602</td>\n",
              "      <td>5700</td>\n",
              "      <td>2017-09-22T21:38:58Z</td>\n",
              "      <td>1</td>\n",
              "    </tr>\n",
              "    <tr>\n",
              "      <th>...</th>\n",
              "      <td>...</td>\n",
              "      <td>...</td>\n",
              "      <td>...</td>\n",
              "      <td>...</td>\n",
              "      <td>...</td>\n",
              "      <td>...</td>\n",
              "      <td>...</td>\n",
              "    </tr>\n",
              "    <tr>\n",
              "      <th>116465</th>\n",
              "      <td>15836414</td>\n",
              "      <td>900009494</td>\n",
              "      <td>2.687707</td>\n",
              "      <td>-124.098389</td>\n",
              "      <td>9050</td>\n",
              "      <td>2017-10-03T19:03:06Z</td>\n",
              "      <td>1</td>\n",
              "    </tr>\n",
              "    <tr>\n",
              "      <th>11666</th>\n",
              "      <td>15836701</td>\n",
              "      <td>900007604</td>\n",
              "      <td>0.651611</td>\n",
              "      <td>-1.937866</td>\n",
              "      <td>9200</td>\n",
              "      <td>2017-10-03T19:30:06Z</td>\n",
              "      <td>1</td>\n",
              "    </tr>\n",
              "    <tr>\n",
              "      <th>65294</th>\n",
              "      <td>15886206</td>\n",
              "      <td>900010570</td>\n",
              "      <td>0.857461</td>\n",
              "      <td>-1.796753</td>\n",
              "      <td>3200</td>\n",
              "      <td>2017-10-04T19:23:08Z</td>\n",
              "      <td>1</td>\n",
              "    </tr>\n",
              "    <tr>\n",
              "      <th>63037</th>\n",
              "      <td>14342791</td>\n",
              "      <td>900005727</td>\n",
              "      <td>1.093874</td>\n",
              "      <td>-26.469238</td>\n",
              "      <td>3200</td>\n",
              "      <td>2017-09-07T17:43:06Z</td>\n",
              "      <td>0</td>\n",
              "    </tr>\n",
              "    <tr>\n",
              "      <th>53842</th>\n",
              "      <td>15031281</td>\n",
              "      <td>900006856</td>\n",
              "      <td>1.298663</td>\n",
              "      <td>-19.701050</td>\n",
              "      <td>5500</td>\n",
              "      <td>2017-09-19T15:36:49Z</td>\n",
              "      <td>0</td>\n",
              "    </tr>\n",
              "  </tbody>\n",
              "</table>\n",
              "<p>117552 rows × 7 columns</p>\n",
              "</div>\n",
              "      <button class=\"colab-df-convert\" onclick=\"convertToInteractive('df-c7e6b7c0-2cd7-4a2d-873d-38b0a48518d8')\"\n",
              "              title=\"Convert this dataframe to an interactive table.\"\n",
              "              style=\"display:none;\">\n",
              "        \n",
              "  <svg xmlns=\"http://www.w3.org/2000/svg\" height=\"24px\"viewBox=\"0 0 24 24\"\n",
              "       width=\"24px\">\n",
              "    <path d=\"M0 0h24v24H0V0z\" fill=\"none\"/>\n",
              "    <path d=\"M18.56 5.44l.94 2.06.94-2.06 2.06-.94-2.06-.94-.94-2.06-.94 2.06-2.06.94zm-11 1L8.5 8.5l.94-2.06 2.06-.94-2.06-.94L8.5 2.5l-.94 2.06-2.06.94zm10 10l.94 2.06.94-2.06 2.06-.94-2.06-.94-.94-2.06-.94 2.06-2.06.94z\"/><path d=\"M17.41 7.96l-1.37-1.37c-.4-.4-.92-.59-1.43-.59-.52 0-1.04.2-1.43.59L10.3 9.45l-7.72 7.72c-.78.78-.78 2.05 0 2.83L4 21.41c.39.39.9.59 1.41.59.51 0 1.02-.2 1.41-.59l7.78-7.78 2.81-2.81c.8-.78.8-2.07 0-2.86zM5.41 20L4 18.59l7.72-7.72 1.47 1.35L5.41 20z\"/>\n",
              "  </svg>\n",
              "      </button>\n",
              "      \n",
              "  <style>\n",
              "    .colab-df-container {\n",
              "      display:flex;\n",
              "      flex-wrap:wrap;\n",
              "      gap: 12px;\n",
              "    }\n",
              "\n",
              "    .colab-df-convert {\n",
              "      background-color: #E8F0FE;\n",
              "      border: none;\n",
              "      border-radius: 50%;\n",
              "      cursor: pointer;\n",
              "      display: none;\n",
              "      fill: #1967D2;\n",
              "      height: 32px;\n",
              "      padding: 0 0 0 0;\n",
              "      width: 32px;\n",
              "    }\n",
              "\n",
              "    .colab-df-convert:hover {\n",
              "      background-color: #E2EBFA;\n",
              "      box-shadow: 0px 1px 2px rgba(60, 64, 67, 0.3), 0px 1px 3px 1px rgba(60, 64, 67, 0.15);\n",
              "      fill: #174EA6;\n",
              "    }\n",
              "\n",
              "    [theme=dark] .colab-df-convert {\n",
              "      background-color: #3B4455;\n",
              "      fill: #D2E3FC;\n",
              "    }\n",
              "\n",
              "    [theme=dark] .colab-df-convert:hover {\n",
              "      background-color: #434B5C;\n",
              "      box-shadow: 0px 1px 3px 1px rgba(0, 0, 0, 0.15);\n",
              "      filter: drop-shadow(0px 1px 2px rgba(0, 0, 0, 0.3));\n",
              "      fill: #FFFFFF;\n",
              "    }\n",
              "  </style>\n",
              "\n",
              "      <script>\n",
              "        const buttonEl =\n",
              "          document.querySelector('#df-c7e6b7c0-2cd7-4a2d-873d-38b0a48518d8 button.colab-df-convert');\n",
              "        buttonEl.style.display =\n",
              "          google.colab.kernel.accessAllowed ? 'block' : 'none';\n",
              "\n",
              "        async function convertToInteractive(key) {\n",
              "          const element = document.querySelector('#df-c7e6b7c0-2cd7-4a2d-873d-38b0a48518d8');\n",
              "          const dataTable =\n",
              "            await google.colab.kernel.invokeFunction('convertToInteractive',\n",
              "                                                     [key], {});\n",
              "          if (!dataTable) return;\n",
              "\n",
              "          const docLinkHtml = 'Like what you see? Visit the ' +\n",
              "            '<a target=\"_blank\" href=https://colab.research.google.com/notebooks/data_table.ipynb>data table notebook</a>'\n",
              "            + ' to learn more about interactive tables.';\n",
              "          element.innerHTML = '';\n",
              "          dataTable['output_type'] = 'display_data';\n",
              "          await google.colab.output.renderOutput(dataTable, element);\n",
              "          const docLink = document.createElement('div');\n",
              "          docLink.innerHTML = docLinkHtml;\n",
              "          element.appendChild(docLink);\n",
              "        }\n",
              "      </script>\n",
              "    </div>\n",
              "  </div>\n",
              "  "
            ]
          },
          "metadata": {},
          "execution_count": 8
        }
      ],
      "source": [
        "X_new = get_df_unique(X_row,column_id='order_id')\n",
        "X_new"
      ]
    },
    {
      "cell_type": "code",
      "execution_count": 9,
      "metadata": {
        "colab": {
          "base_uri": "https://localhost:8080/"
        },
        "id": "HEPTYN5jzy33",
        "outputId": "6a3acd2f-8deb-400e-c720-7fc74d0c1d51"
      },
      "outputs": [
        {
          "output_type": "stream",
          "name": "stdout",
          "text": [
            "Take: 108268 No take: 9284\n",
            "Imbalanced classes!\n"
          ]
        }
      ],
      "source": [
        "print('Take: {}'.format(np.sum(X_new['taken']==1)),'No take: {}'.format(np.sum(X_new['taken']==0)))\n",
        "print('Imbalanced classes!')"
      ]
    },
    {
      "cell_type": "markdown",
      "metadata": {
        "id": "nMbVwRO80WfL"
      },
      "source": [
        "##Get preproceced data and labels"
      ]
    },
    {
      "cell_type": "code",
      "execution_count": 10,
      "metadata": {
        "colab": {
          "base_uri": "https://localhost:8080/"
        },
        "id": "2HDUfdI6z9ht",
        "outputId": "d57406ea-d9a7-4356-b654-0e66b75a851a"
      },
      "outputs": [
        {
          "output_type": "stream",
          "name": "stdout",
          "text": [
            "['order_id', 'store_id', 'to_user_distance', 'to_user_elevation', 'total_earning', 'created_at', 'taken']\n"
          ]
        }
      ],
      "source": [
        "col_names = list(X_new.keys())\n",
        "print(col_names)"
      ]
    },
    {
      "cell_type": "markdown",
      "metadata": {
        "id": "iQ67L49k0jNt"
      },
      "source": [
        "- We drop the order id because it's a unique value\n",
        "- We generate new features from datetime column"
      ]
    },
    {
      "cell_type": "code",
      "execution_count": 11,
      "metadata": {
        "colab": {
          "base_uri": "https://localhost:8080/"
        },
        "id": "4jw2yPNS0ilW",
        "outputId": "b715bdcd-5eab-4d8b-9777-72b2ed251b9b"
      },
      "outputs": [
        {
          "output_type": "stream",
          "name": "stdout",
          "text": [
            "(117552, 6) (117552,)\n"
          ]
        }
      ],
      "source": [
        "feat_names = col_names[1:-1]\n",
        "\n",
        "prep = timeConverter(feat_names=feat_names)\n",
        "X_train = prep.fit_transform(X_new)\n",
        "\n",
        "labels = col_names[-1]\n",
        "y_train = X_new[labels]\n",
        "\n",
        "print(X_train.shape,y_train.shape)"
      ]
    },
    {
      "cell_type": "code",
      "execution_count": 12,
      "metadata": {
        "colab": {
          "base_uri": "https://localhost:8080/",
          "height": 419
        },
        "id": "HMNRn9u802zW",
        "outputId": "952723d5-6be5-4af9-ac68-841e8486bb1e"
      },
      "outputs": [
        {
          "output_type": "execute_result",
          "data": {
            "text/plain": [
              "         store_id  to_user_distance  to_user_elevation  total_earning  \\\n",
              "0       900007722          2.188069          43.430176           5500   \n",
              "1       900008156          0.970423          64.589722           5200   \n",
              "2       900004503          2.699022         257.006104           6700   \n",
              "3       900015422          0.725768         -42.870361           3200   \n",
              "4       900011745          0.750715         -34.016602           5700   \n",
              "...           ...               ...                ...            ...   \n",
              "116465  900009494          2.687707        -124.098389           9050   \n",
              "11666   900007604          0.651611          -1.937866           9200   \n",
              "65294   900010570          0.857461          -1.796753           3200   \n",
              "63037   900005727          1.093874         -26.469238           3200   \n",
              "53842   900006856          1.298663         -19.701050           5500   \n",
              "\n",
              "        weekday  hour  \n",
              "0             6  1436  \n",
              "1             3  1233  \n",
              "2             0  1243  \n",
              "3             1  1717  \n",
              "4             4  2138  \n",
              "...         ...   ...  \n",
              "116465        1  1903  \n",
              "11666         1  1930  \n",
              "65294         2  1923  \n",
              "63037         3  1743  \n",
              "53842         1  1536  \n",
              "\n",
              "[117552 rows x 6 columns]"
            ],
            "text/html": [
              "\n",
              "  <div id=\"df-ace7150c-03bd-4758-8c56-229d9475a780\">\n",
              "    <div class=\"colab-df-container\">\n",
              "      <div>\n",
              "<style scoped>\n",
              "    .dataframe tbody tr th:only-of-type {\n",
              "        vertical-align: middle;\n",
              "    }\n",
              "\n",
              "    .dataframe tbody tr th {\n",
              "        vertical-align: top;\n",
              "    }\n",
              "\n",
              "    .dataframe thead th {\n",
              "        text-align: right;\n",
              "    }\n",
              "</style>\n",
              "<table border=\"1\" class=\"dataframe\">\n",
              "  <thead>\n",
              "    <tr style=\"text-align: right;\">\n",
              "      <th></th>\n",
              "      <th>store_id</th>\n",
              "      <th>to_user_distance</th>\n",
              "      <th>to_user_elevation</th>\n",
              "      <th>total_earning</th>\n",
              "      <th>weekday</th>\n",
              "      <th>hour</th>\n",
              "    </tr>\n",
              "  </thead>\n",
              "  <tbody>\n",
              "    <tr>\n",
              "      <th>0</th>\n",
              "      <td>900007722</td>\n",
              "      <td>2.188069</td>\n",
              "      <td>43.430176</td>\n",
              "      <td>5500</td>\n",
              "      <td>6</td>\n",
              "      <td>1436</td>\n",
              "    </tr>\n",
              "    <tr>\n",
              "      <th>1</th>\n",
              "      <td>900008156</td>\n",
              "      <td>0.970423</td>\n",
              "      <td>64.589722</td>\n",
              "      <td>5200</td>\n",
              "      <td>3</td>\n",
              "      <td>1233</td>\n",
              "    </tr>\n",
              "    <tr>\n",
              "      <th>2</th>\n",
              "      <td>900004503</td>\n",
              "      <td>2.699022</td>\n",
              "      <td>257.006104</td>\n",
              "      <td>6700</td>\n",
              "      <td>0</td>\n",
              "      <td>1243</td>\n",
              "    </tr>\n",
              "    <tr>\n",
              "      <th>3</th>\n",
              "      <td>900015422</td>\n",
              "      <td>0.725768</td>\n",
              "      <td>-42.870361</td>\n",
              "      <td>3200</td>\n",
              "      <td>1</td>\n",
              "      <td>1717</td>\n",
              "    </tr>\n",
              "    <tr>\n",
              "      <th>4</th>\n",
              "      <td>900011745</td>\n",
              "      <td>0.750715</td>\n",
              "      <td>-34.016602</td>\n",
              "      <td>5700</td>\n",
              "      <td>4</td>\n",
              "      <td>2138</td>\n",
              "    </tr>\n",
              "    <tr>\n",
              "      <th>...</th>\n",
              "      <td>...</td>\n",
              "      <td>...</td>\n",
              "      <td>...</td>\n",
              "      <td>...</td>\n",
              "      <td>...</td>\n",
              "      <td>...</td>\n",
              "    </tr>\n",
              "    <tr>\n",
              "      <th>116465</th>\n",
              "      <td>900009494</td>\n",
              "      <td>2.687707</td>\n",
              "      <td>-124.098389</td>\n",
              "      <td>9050</td>\n",
              "      <td>1</td>\n",
              "      <td>1903</td>\n",
              "    </tr>\n",
              "    <tr>\n",
              "      <th>11666</th>\n",
              "      <td>900007604</td>\n",
              "      <td>0.651611</td>\n",
              "      <td>-1.937866</td>\n",
              "      <td>9200</td>\n",
              "      <td>1</td>\n",
              "      <td>1930</td>\n",
              "    </tr>\n",
              "    <tr>\n",
              "      <th>65294</th>\n",
              "      <td>900010570</td>\n",
              "      <td>0.857461</td>\n",
              "      <td>-1.796753</td>\n",
              "      <td>3200</td>\n",
              "      <td>2</td>\n",
              "      <td>1923</td>\n",
              "    </tr>\n",
              "    <tr>\n",
              "      <th>63037</th>\n",
              "      <td>900005727</td>\n",
              "      <td>1.093874</td>\n",
              "      <td>-26.469238</td>\n",
              "      <td>3200</td>\n",
              "      <td>3</td>\n",
              "      <td>1743</td>\n",
              "    </tr>\n",
              "    <tr>\n",
              "      <th>53842</th>\n",
              "      <td>900006856</td>\n",
              "      <td>1.298663</td>\n",
              "      <td>-19.701050</td>\n",
              "      <td>5500</td>\n",
              "      <td>1</td>\n",
              "      <td>1536</td>\n",
              "    </tr>\n",
              "  </tbody>\n",
              "</table>\n",
              "<p>117552 rows × 6 columns</p>\n",
              "</div>\n",
              "      <button class=\"colab-df-convert\" onclick=\"convertToInteractive('df-ace7150c-03bd-4758-8c56-229d9475a780')\"\n",
              "              title=\"Convert this dataframe to an interactive table.\"\n",
              "              style=\"display:none;\">\n",
              "        \n",
              "  <svg xmlns=\"http://www.w3.org/2000/svg\" height=\"24px\"viewBox=\"0 0 24 24\"\n",
              "       width=\"24px\">\n",
              "    <path d=\"M0 0h24v24H0V0z\" fill=\"none\"/>\n",
              "    <path d=\"M18.56 5.44l.94 2.06.94-2.06 2.06-.94-2.06-.94-.94-2.06-.94 2.06-2.06.94zm-11 1L8.5 8.5l.94-2.06 2.06-.94-2.06-.94L8.5 2.5l-.94 2.06-2.06.94zm10 10l.94 2.06.94-2.06 2.06-.94-2.06-.94-.94-2.06-.94 2.06-2.06.94z\"/><path d=\"M17.41 7.96l-1.37-1.37c-.4-.4-.92-.59-1.43-.59-.52 0-1.04.2-1.43.59L10.3 9.45l-7.72 7.72c-.78.78-.78 2.05 0 2.83L4 21.41c.39.39.9.59 1.41.59.51 0 1.02-.2 1.41-.59l7.78-7.78 2.81-2.81c.8-.78.8-2.07 0-2.86zM5.41 20L4 18.59l7.72-7.72 1.47 1.35L5.41 20z\"/>\n",
              "  </svg>\n",
              "      </button>\n",
              "      \n",
              "  <style>\n",
              "    .colab-df-container {\n",
              "      display:flex;\n",
              "      flex-wrap:wrap;\n",
              "      gap: 12px;\n",
              "    }\n",
              "\n",
              "    .colab-df-convert {\n",
              "      background-color: #E8F0FE;\n",
              "      border: none;\n",
              "      border-radius: 50%;\n",
              "      cursor: pointer;\n",
              "      display: none;\n",
              "      fill: #1967D2;\n",
              "      height: 32px;\n",
              "      padding: 0 0 0 0;\n",
              "      width: 32px;\n",
              "    }\n",
              "\n",
              "    .colab-df-convert:hover {\n",
              "      background-color: #E2EBFA;\n",
              "      box-shadow: 0px 1px 2px rgba(60, 64, 67, 0.3), 0px 1px 3px 1px rgba(60, 64, 67, 0.15);\n",
              "      fill: #174EA6;\n",
              "    }\n",
              "\n",
              "    [theme=dark] .colab-df-convert {\n",
              "      background-color: #3B4455;\n",
              "      fill: #D2E3FC;\n",
              "    }\n",
              "\n",
              "    [theme=dark] .colab-df-convert:hover {\n",
              "      background-color: #434B5C;\n",
              "      box-shadow: 0px 1px 3px 1px rgba(0, 0, 0, 0.15);\n",
              "      filter: drop-shadow(0px 1px 2px rgba(0, 0, 0, 0.3));\n",
              "      fill: #FFFFFF;\n",
              "    }\n",
              "  </style>\n",
              "\n",
              "      <script>\n",
              "        const buttonEl =\n",
              "          document.querySelector('#df-ace7150c-03bd-4758-8c56-229d9475a780 button.colab-df-convert');\n",
              "        buttonEl.style.display =\n",
              "          google.colab.kernel.accessAllowed ? 'block' : 'none';\n",
              "\n",
              "        async function convertToInteractive(key) {\n",
              "          const element = document.querySelector('#df-ace7150c-03bd-4758-8c56-229d9475a780');\n",
              "          const dataTable =\n",
              "            await google.colab.kernel.invokeFunction('convertToInteractive',\n",
              "                                                     [key], {});\n",
              "          if (!dataTable) return;\n",
              "\n",
              "          const docLinkHtml = 'Like what you see? Visit the ' +\n",
              "            '<a target=\"_blank\" href=https://colab.research.google.com/notebooks/data_table.ipynb>data table notebook</a>'\n",
              "            + ' to learn more about interactive tables.';\n",
              "          element.innerHTML = '';\n",
              "          dataTable['output_type'] = 'display_data';\n",
              "          await google.colab.output.renderOutput(dataTable, element);\n",
              "          const docLink = document.createElement('div');\n",
              "          docLink.innerHTML = docLinkHtml;\n",
              "          element.appendChild(docLink);\n",
              "        }\n",
              "      </script>\n",
              "    </div>\n",
              "  </div>\n",
              "  "
            ]
          },
          "metadata": {},
          "execution_count": 12
        }
      ],
      "source": [
        "X_train"
      ]
    },
    {
      "cell_type": "markdown",
      "metadata": {
        "id": "BhynLczL2lS9"
      },
      "source": [
        "#Training"
      ]
    },
    {
      "cell_type": "markdown",
      "metadata": {
        "id": "v4iQgQMX2zNx"
      },
      "source": [
        "##Applying oversample to avoid class imbalance"
      ]
    },
    {
      "cell_type": "code",
      "execution_count": 13,
      "metadata": {
        "colab": {
          "base_uri": "https://localhost:8080/"
        },
        "id": "G_w6LKNx065-",
        "outputId": "2d19c9c2-0b08-4529-99c8-b9ab97fe05bd"
      },
      "outputs": [
        {
          "output_type": "stream",
          "name": "stdout",
          "text": [
            "(216536, 6) (216536,)\n"
          ]
        }
      ],
      "source": [
        "oversample = BorderlineSMOTE(random_state=123)\n",
        "X_tr, y_tr = oversample.fit_resample(X_train, y_train)\n",
        "print(X_tr.shape, y_tr.shape)"
      ]
    },
    {
      "cell_type": "code",
      "execution_count": 14,
      "metadata": {
        "id": "4Oi-zkIx2txO"
      },
      "outputs": [],
      "source": [
        "X_tr, X_ts, y_tr, y_ts = train_test_split(X_tr, y_tr, test_size=0.3, random_state=42)"
      ]
    },
    {
      "cell_type": "markdown",
      "metadata": {
        "id": "4puYumT28WEZ"
      },
      "source": [
        "##Training RandomForest Classifier"
      ]
    },
    {
      "cell_type": "markdown",
      "metadata": {
        "id": "Rd3EK78g8bd-"
      },
      "source": [
        "###Parameter tunning"
      ]
    },
    {
      "cell_type": "code",
      "execution_count": 15,
      "metadata": {
        "colab": {
          "base_uri": "https://localhost:8080/"
        },
        "id": "35G7bbD5e3DA",
        "outputId": "4bf4c7e2-f82b-4e89-8490-770ad4f56c44"
      },
      "outputs": [
        {
          "output_type": "stream",
          "name": "stderr",
          "text": [
            "/usr/local/lib/python3.7/dist-packages/joblib/externals/loky/process_executor.py:705: UserWarning: A worker stopped while some jobs were given to the executor. This can be caused by a too short worker timeout or by a memory leak.\n",
            "  \"timeout or by a memory leak.\", UserWarning\n"
          ]
        },
        {
          "output_type": "execute_result",
          "data": {
            "text/plain": [
              "GridSearchCV(cv=5, estimator=RandomForestClassifier(), n_jobs=-1,\n",
              "             param_grid={'max_depth': [6, 12, 24, None],\n",
              "                         'n_estimators': [100, 200, 300, 400, 500]},\n",
              "             scoring='accuracy')"
            ]
          },
          "metadata": {},
          "execution_count": 15
        }
      ],
      "source": [
        "mdl = RandomForestClassifier()\n",
        "parameters = {'n_estimators':[100,200,300,400,500],\n",
        "              'max_depth':[6,12,24,None]}\n",
        "clf = GridSearchCV(mdl, parameters,scoring='accuracy',cv=5,n_jobs=-1)\n",
        "clf.fit(X_tr,y_tr)"
      ]
    },
    {
      "cell_type": "code",
      "execution_count": 16,
      "metadata": {
        "id": "dqGN4zNUjIz5",
        "colab": {
          "base_uri": "https://localhost:8080/"
        },
        "outputId": "ee29e932-1fa2-40c9-dc7e-32551b36f230"
      },
      "outputs": [
        {
          "output_type": "execute_result",
          "data": {
            "text/plain": [
              "{'mean_fit_time': array([ 18.57217898,  26.41459064,  39.47523723,  51.99648895,\n",
              "         65.12286158,  22.387075  ,  44.84575195,  67.9396452 ,\n",
              "         90.25483317, 112.28110051,  32.89918246,  66.1466013 ,\n",
              "         99.62943001, 133.48768764, 166.74682155,  34.83559628,\n",
              "         68.56594572, 102.014078  , 136.87877841, 168.98465505]),\n",
              " 'mean_score_time': array([0.33901048, 0.54243445, 0.8001543 , 1.06923985, 1.3223011 ,\n",
              "        0.46842227, 0.93454189, 1.40174198, 1.8678946 , 2.34467773,\n",
              "        0.97129598, 1.89752836, 2.82163506, 3.80813532, 4.75836887,\n",
              "        1.0175983 , 2.0262044 , 3.02998443, 4.07155809, 4.85399036]),\n",
              " 'mean_test_score': array([0.71021606, 0.70755731, 0.71057232, 0.70859311, 0.70956292,\n",
              "        0.77896751, 0.77859146, 0.77887514, 0.77926439, 0.77961405,\n",
              "        0.88917698, 0.89066139, 0.89145967, 0.89110341, 0.89149266,\n",
              "        0.89610424, 0.89729177, 0.89820221, 0.89835395, 0.89851889]),\n",
              " 'param_max_depth': masked_array(data=[6, 6, 6, 6, 6, 12, 12, 12, 12, 12, 24, 24, 24, 24, 24,\n",
              "                    None, None, None, None, None],\n",
              "              mask=[False, False, False, False, False, False, False, False,\n",
              "                    False, False, False, False, False, False, False, False,\n",
              "                    False, False, False, False],\n",
              "        fill_value='?',\n",
              "             dtype=object),\n",
              " 'param_n_estimators': masked_array(data=[100, 200, 300, 400, 500, 100, 200, 300, 400, 500, 100,\n",
              "                    200, 300, 400, 500, 100, 200, 300, 400, 500],\n",
              "              mask=[False, False, False, False, False, False, False, False,\n",
              "                    False, False, False, False, False, False, False, False,\n",
              "                    False, False, False, False],\n",
              "        fill_value='?',\n",
              "             dtype=object),\n",
              " 'params': [{'max_depth': 6, 'n_estimators': 100},\n",
              "  {'max_depth': 6, 'n_estimators': 200},\n",
              "  {'max_depth': 6, 'n_estimators': 300},\n",
              "  {'max_depth': 6, 'n_estimators': 400},\n",
              "  {'max_depth': 6, 'n_estimators': 500},\n",
              "  {'max_depth': 12, 'n_estimators': 100},\n",
              "  {'max_depth': 12, 'n_estimators': 200},\n",
              "  {'max_depth': 12, 'n_estimators': 300},\n",
              "  {'max_depth': 12, 'n_estimators': 400},\n",
              "  {'max_depth': 12, 'n_estimators': 500},\n",
              "  {'max_depth': 24, 'n_estimators': 100},\n",
              "  {'max_depth': 24, 'n_estimators': 200},\n",
              "  {'max_depth': 24, 'n_estimators': 300},\n",
              "  {'max_depth': 24, 'n_estimators': 400},\n",
              "  {'max_depth': 24, 'n_estimators': 500},\n",
              "  {'max_depth': None, 'n_estimators': 100},\n",
              "  {'max_depth': None, 'n_estimators': 200},\n",
              "  {'max_depth': None, 'n_estimators': 300},\n",
              "  {'max_depth': None, 'n_estimators': 400},\n",
              "  {'max_depth': None, 'n_estimators': 500}],\n",
              " 'rank_test_score': array([17, 20, 16, 19, 18, 13, 15, 14, 12, 11, 10,  9,  7,  8,  6,  5,  4,\n",
              "         3,  2,  1], dtype=int32),\n",
              " 'split0_test_score': array([0.7103744 , 0.71017648, 0.71152895, 0.71123206, 0.70938479,\n",
              "        0.78017483, 0.77961405, 0.78080158, 0.78047171, 0.78169223,\n",
              "        0.89002144, 0.89101105, 0.8916378 , 0.891143  , 0.89147287,\n",
              "        0.8949365 , 0.89826818, 0.89816922, 0.89783935, 0.89840013]),\n",
              " 'split1_test_score': array([0.70714168, 0.70796635, 0.71146297, 0.70766947, 0.71327726,\n",
              "        0.78053769, 0.77991094, 0.78073561, 0.78142834, 0.78099951,\n",
              "        0.88840508, 0.88992248, 0.89054923, 0.89124196, 0.89127495,\n",
              "        0.89506845, 0.8967178 , 0.89793831, 0.89790533, 0.89849909]),\n",
              " 'split2_test_score': array([0.71627907, 0.71034142, 0.71311232, 0.71116609, 0.71298037,\n",
              "        0.77859146, 0.77977899, 0.77878938, 0.7807686 , 0.78037275,\n",
              "        0.89233053, 0.89355105, 0.89397988, 0.89302326, 0.89437572,\n",
              "        0.89863104, 0.89915883, 0.90130299, 0.90120402, 0.90097312]),\n",
              " 'split3_test_score': array([0.70466766, 0.70509649, 0.70872505, 0.70720765, 0.70549233,\n",
              "        0.77638133, 0.77605146, 0.77621639, 0.77601847, 0.7767112 ,\n",
              "        0.88668976, 0.88781131, 0.88946066, 0.88949365, 0.88926274,\n",
              "        0.8952004 , 0.89510143, 0.89681676, 0.89704767, 0.89694871]),\n",
              " 'split4_test_score': array([0.71261752, 0.70420584, 0.70803233, 0.70569025, 0.70667986,\n",
              "        0.77915223, 0.77760185, 0.77783276, 0.77763483, 0.77829457,\n",
              "        0.88843807, 0.89101105, 0.89167079, 0.89061521, 0.89107702,\n",
              "        0.89668481, 0.8972126 , 0.89678377, 0.89777338, 0.89777338]),\n",
              " 'std_fit_time': array([4.33165122, 0.78895438, 0.74917124, 0.24074163, 0.68864569,\n",
              "        0.16452198, 0.17285092, 0.60120446, 0.5445239 , 0.67814192,\n",
              "        0.11020859, 0.4835948 , 0.74114445, 1.39947459, 1.019808  ,\n",
              "        0.71402635, 0.44683955, 0.46174643, 1.68870137, 6.88599969]),\n",
              " 'std_score_time': array([0.10244565, 0.00968506, 0.00726981, 0.00966087, 0.0065752 ,\n",
              "        0.00472957, 0.00534555, 0.00768152, 0.00741504, 0.01994068,\n",
              "        0.01947542, 0.01332379, 0.01599361, 0.04202053, 0.01666954,\n",
              "        0.0094447 , 0.01111378, 0.02986379, 0.0549332 , 0.40198595]),\n",
              " 'std_test_score': array([0.00406912, 0.00253245, 0.00189863, 0.00222636, 0.00317455,\n",
              "        0.00146881, 0.00152498, 0.00175131, 0.00207819, 0.00184291,\n",
              "        0.00189663, 0.00185815, 0.00150018, 0.00114335, 0.00164348,\n",
              "        0.00141246, 0.00138366, 0.00165027, 0.00145825, 0.00134603])}"
            ]
          },
          "metadata": {},
          "execution_count": 16
        }
      ],
      "source": [
        "clf.cv_results_"
      ]
    },
    {
      "cell_type": "code",
      "execution_count": 17,
      "metadata": {
        "id": "MXkISg6k02E9",
        "colab": {
          "base_uri": "https://localhost:8080/"
        },
        "outputId": "9f1a8a22-11e4-4f01-ba5c-d8c3912836fb"
      },
      "outputs": [
        {
          "output_type": "execute_result",
          "data": {
            "text/plain": [
              "{'max_depth': None, 'n_estimators': 500}"
            ]
          },
          "metadata": {},
          "execution_count": 17
        }
      ],
      "source": [
        "clf.best_params_"
      ]
    },
    {
      "cell_type": "code",
      "execution_count": 18,
      "metadata": {
        "id": "P7msAul81wT3",
        "colab": {
          "base_uri": "https://localhost:8080/"
        },
        "outputId": "6b251960-b21e-4a12-9eb8-e028c4bc1abc"
      },
      "outputs": [
        {
          "output_type": "execute_result",
          "data": {
            "text/plain": [
              "0.8985188850404089"
            ]
          },
          "metadata": {},
          "execution_count": 18
        }
      ],
      "source": [
        "clf.best_score_"
      ]
    },
    {
      "cell_type": "markdown",
      "metadata": {
        "id": "NH2aodUN9qnA"
      },
      "source": [
        "###Training with best parameters"
      ]
    },
    {
      "cell_type": "code",
      "execution_count": 19,
      "metadata": {
        "id": "H0Tjw7J5iZwu",
        "colab": {
          "base_uri": "https://localhost:8080/"
        },
        "outputId": "c20324fb-17b4-4359-970d-1d26ca0ceec6"
      },
      "outputs": [
        {
          "output_type": "execute_result",
          "data": {
            "text/plain": [
              "RandomForestClassifier(n_estimators=500)"
            ]
          },
          "metadata": {},
          "execution_count": 19
        }
      ],
      "source": [
        "mdl_final = clf.best_estimator_\n",
        "mdl_final.fit(X_tr, y_tr)"
      ]
    },
    {
      "cell_type": "code",
      "execution_count": 20,
      "metadata": {
        "id": "RcRZxRuvaUwz",
        "colab": {
          "base_uri": "https://localhost:8080/",
          "height": 335
        },
        "outputId": "53913e27-2298-467b-bc5b-3db845f0fb15"
      },
      "outputs": [
        {
          "output_type": "display_data",
          "data": {
            "text/plain": [
              "<Figure size 720x360 with 1 Axes>"
            ],
            "image/png": "[encoded data removed]"
          },
          "metadata": {
            "needs_background": "light"
          }
        }
      ],
      "source": [
        "plt.figure(figsize=(10,5))\n",
        "plt.stem(mdl_final.feature_importances_,use_line_collection=True)\n",
        "plt.ylabel('Importance')\n",
        "plt.xlabel('Features')\n",
        "plt.xticks(np.linspace(0,X_tr.shape[-1]-1,X_tr.shape[-1]),X_tr.keys().to_list())\n",
        "plt.grid('on')\n",
        "plt.show()"
      ]
    },
    {
      "cell_type": "markdown",
      "metadata": {
        "id": "qz-kjCmGF8fM"
      },
      "source": [
        "Save model"
      ]
    },
    {
      "cell_type": "code",
      "execution_count": 21,
      "metadata": {
        "id": "OWNAhMi9dN5K"
      },
      "outputs": [],
      "source": [
        "#pickle.dump(mdl_final, open('/content/RF_model.pkl', 'wb'))"
      ]
    },
    {
      "cell_type": "markdown",
      "metadata": {
        "id": "DyRCgORBF63O"
      },
      "source": [
        "###Load model"
      ]
    },
    {
      "cell_type": "code",
      "source": [
        "!gdown 1lWfMIZLNehFV65AgeJK_UjSToylPFiBi"
      ],
      "metadata": {
        "colab": {
          "base_uri": "https://localhost:8080/"
        },
        "id": "NTJXRSYwMce6",
        "outputId": "077ce72b-999f-48f7-ea90-4fdfe70d2b98"
      },
      "execution_count": 22,
      "outputs": [
        {
          "output_type": "stream",
          "name": "stdout",
          "text": [
            "Downloading...\n",
            "From: https://drive.google.com/uc?id=1lWfMIZLNehFV65AgeJK_UjSToylPFiBi\n",
            "To: /content/RF_model.pkl\n",
            "100% 1.04G/1.04G [00:13<00:00, 75.9MB/s]\n"
          ]
        }
      ]
    },
    {
      "cell_type": "code",
      "execution_count": 23,
      "metadata": {
        "id": "PFYe0fm7GDOb"
      },
      "outputs": [],
      "source": [
        "mdl_final = pickle.load( open( \"/content/RF_model.pkl\", \"rb\" ) )"
      ]
    },
    {
      "cell_type": "code",
      "source": [
        "plt.figure(figsize=(10,5))\n",
        "plt.stem(mdl_final.feature_importances_,use_line_collection=True)\n",
        "plt.ylabel('Importance')\n",
        "plt.xlabel('Features')\n",
        "plt.xticks(np.linspace(0,X_tr.shape[-1]-1,X_tr.shape[-1]),X_tr.keys().to_list())\n",
        "plt.grid('on')\n",
        "plt.show()"
      ],
      "metadata": {
        "colab": {
          "base_uri": "https://localhost:8080/",
          "height": 335
        },
        "id": "jUrLG-tsVY3n",
        "outputId": "93b542cf-1d17-4d7a-a7ae-fb86c7472920"
      },
      "execution_count": 24,
      "outputs": [
        {
          "output_type": "display_data",
          "data": {
            "text/plain": [
              "<Figure size 720x360 with 1 Axes>"
            ],
            "image/png": "[encoded data removed]"
          },
          "metadata": {
            "needs_background": "light"
          }
        }
      ]
    },
    {
      "cell_type": "markdown",
      "source": [
        "###Results"
      ],
      "metadata": {
        "id": "g5A13zLwuJ9z"
      }
    },
    {
      "cell_type": "code",
      "execution_count": 25,
      "metadata": {
        "id": "hK-2f_tCai4t"
      },
      "outputs": [],
      "source": [
        "y_pred = mdl_final.predict(X_ts)"
      ]
    },
    {
      "cell_type": "code",
      "execution_count": 26,
      "metadata": {
        "id": "-XSZGAicCTP4",
        "colab": {
          "base_uri": "https://localhost:8080/",
          "height": 80
        },
        "outputId": "085e7a6b-3bec-4312-9185-84fb1ebfaab3"
      },
      "outputs": [
        {
          "output_type": "execute_result",
          "data": {
            "text/plain": [
              "   Accuracy  F1-score       AUC\n",
              "0   0.89115  0.888864  0.891623"
            ],
            "text/html": [
              "\n",
              "  <div id=\"df-e7e2e575-17ce-429c-9999-92c3faa0c5e1\">\n",
              "    <div class=\"colab-df-container\">\n",
              "      <div>\n",
              "<style scoped>\n",
              "    .dataframe tbody tr th:only-of-type {\n",
              "        vertical-align: middle;\n",
              "    }\n",
              "\n",
              "    .dataframe tbody tr th {\n",
              "        vertical-align: top;\n",
              "    }\n",
              "\n",
              "    .dataframe thead th {\n",
              "        text-align: right;\n",
              "    }\n",
              "</style>\n",
              "<table border=\"1\" class=\"dataframe\">\n",
              "  <thead>\n",
              "    <tr style=\"text-align: right;\">\n",
              "      <th></th>\n",
              "      <th>Accuracy</th>\n",
              "      <th>F1-score</th>\n",
              "      <th>AUC</th>\n",
              "    </tr>\n",
              "  </thead>\n",
              "  <tbody>\n",
              "    <tr>\n",
              "      <th>0</th>\n",
              "      <td>0.89115</td>\n",
              "      <td>0.888864</td>\n",
              "      <td>0.891623</td>\n",
              "    </tr>\n",
              "  </tbody>\n",
              "</table>\n",
              "</div>\n",
              "      <button class=\"colab-df-convert\" onclick=\"convertToInteractive('df-e7e2e575-17ce-429c-9999-92c3faa0c5e1')\"\n",
              "              title=\"Convert this dataframe to an interactive table.\"\n",
              "              style=\"display:none;\">\n",
              "        \n",
              "  <svg xmlns=\"http://www.w3.org/2000/svg\" height=\"24px\"viewBox=\"0 0 24 24\"\n",
              "       width=\"24px\">\n",
              "    <path d=\"M0 0h24v24H0V0z\" fill=\"none\"/>\n",
              "    <path d=\"M18.56 5.44l.94 2.06.94-2.06 2.06-.94-2.06-.94-.94-2.06-.94 2.06-2.06.94zm-11 1L8.5 8.5l.94-2.06 2.06-.94-2.06-.94L8.5 2.5l-.94 2.06-2.06.94zm10 10l.94 2.06.94-2.06 2.06-.94-2.06-.94-.94-2.06-.94 2.06-2.06.94z\"/><path d=\"M17.41 7.96l-1.37-1.37c-.4-.4-.92-.59-1.43-.59-.52 0-1.04.2-1.43.59L10.3 9.45l-7.72 7.72c-.78.78-.78 2.05 0 2.83L4 21.41c.39.39.9.59 1.41.59.51 0 1.02-.2 1.41-.59l7.78-7.78 2.81-2.81c.8-.78.8-2.07 0-2.86zM5.41 20L4 18.59l7.72-7.72 1.47 1.35L5.41 20z\"/>\n",
              "  </svg>\n",
              "      </button>\n",
              "      \n",
              "  <style>\n",
              "    .colab-df-container {\n",
              "      display:flex;\n",
              "      flex-wrap:wrap;\n",
              "      gap: 12px;\n",
              "    }\n",
              "\n",
              "    .colab-df-convert {\n",
              "      background-color: #E8F0FE;\n",
              "      border: none;\n",
              "      border-radius: 50%;\n",
              "      cursor: pointer;\n",
              "      display: none;\n",
              "      fill: #1967D2;\n",
              "      height: 32px;\n",
              "      padding: 0 0 0 0;\n",
              "      width: 32px;\n",
              "    }\n",
              "\n",
              "    .colab-df-convert:hover {\n",
              "      background-color: #E2EBFA;\n",
              "      box-shadow: 0px 1px 2px rgba(60, 64, 67, 0.3), 0px 1px 3px 1px rgba(60, 64, 67, 0.15);\n",
              "      fill: #174EA6;\n",
              "    }\n",
              "\n",
              "    [theme=dark] .colab-df-convert {\n",
              "      background-color: #3B4455;\n",
              "      fill: #D2E3FC;\n",
              "    }\n",
              "\n",
              "    [theme=dark] .colab-df-convert:hover {\n",
              "      background-color: #434B5C;\n",
              "      box-shadow: 0px 1px 3px 1px rgba(0, 0, 0, 0.15);\n",
              "      filter: drop-shadow(0px 1px 2px rgba(0, 0, 0, 0.3));\n",
              "      fill: #FFFFFF;\n",
              "    }\n",
              "  </style>\n",
              "\n",
              "      <script>\n",
              "        const buttonEl =\n",
              "          document.querySelector('#df-e7e2e575-17ce-429c-9999-92c3faa0c5e1 button.colab-df-convert');\n",
              "        buttonEl.style.display =\n",
              "          google.colab.kernel.accessAllowed ? 'block' : 'none';\n",
              "\n",
              "        async function convertToInteractive(key) {\n",
              "          const element = document.querySelector('#df-e7e2e575-17ce-429c-9999-92c3faa0c5e1');\n",
              "          const dataTable =\n",
              "            await google.colab.kernel.invokeFunction('convertToInteractive',\n",
              "                                                     [key], {});\n",
              "          if (!dataTable) return;\n",
              "\n",
              "          const docLinkHtml = 'Like what you see? Visit the ' +\n",
              "            '<a target=\"_blank\" href=https://colab.research.google.com/notebooks/data_table.ipynb>data table notebook</a>'\n",
              "            + ' to learn more about interactive tables.';\n",
              "          element.innerHTML = '';\n",
              "          dataTable['output_type'] = 'display_data';\n",
              "          await google.colab.output.renderOutput(dataTable, element);\n",
              "          const docLink = document.createElement('div');\n",
              "          docLink.innerHTML = docLinkHtml;\n",
              "          element.appendChild(docLink);\n",
              "        }\n",
              "      </script>\n",
              "    </div>\n",
              "  </div>\n",
              "  "
            ]
          },
          "metadata": {},
          "execution_count": 26
        }
      ],
      "source": [
        "scores = [accuracy_score,f1_score,roc_auc_score]\n",
        "pd.DataFrame(np.expand_dims(np.asarray(get_scores(y_pred,y_ts.to_numpy(),scores)),axis=0),\n",
        "             columns=['Accuracy','F1-score','AUC'])"
      ]
    },
    {
      "cell_type": "code",
      "execution_count": 27,
      "metadata": {
        "colab": {
          "base_uri": "https://localhost:8080/",
          "height": 281
        },
        "id": "P_oTjFqFbXDZ",
        "outputId": "f74ba047-11d5-4e1c-f6a1-887dcf3062c9"
      },
      "outputs": [
        {
          "output_type": "display_data",
          "data": {
            "text/plain": [
              "<Figure size 432x288 with 2 Axes>"
            ],
            "image/png": "[encoded data removed]"
          },
          "metadata": {
            "needs_background": "light"
          }
        }
      ],
      "source": [
        "cm = confusion_matrix(y_ts.to_numpy(), y_pred, labels=mdl_final.classes_,normalize='true')\n",
        "disp = ConfusionMatrixDisplay(confusion_matrix=cm,display_labels=mdl_final.classes_)\n",
        "disp.plot()\n",
        "plt.show()"
      ]
    },
    {
      "cell_type": "code",
      "source": [
        "plt.figure(figsize=(15,10))\n",
        "feat = list(X_tr.keys())\n",
        "feat_bins = [2,20,50,30,7,24]\n",
        "for i in range(len(feat)):\n",
        "    plt.subplot(2,3,i+1)\n",
        "    plt.hist(X_tr[feat[i]][y_tr==0],bins=feat_bins[i],alpha=0.5,label='No taken')\n",
        "    plt.hist(X_tr[feat[i]][y_tr==1],bins=feat_bins[i],alpha=0.5,label='Taken')\n",
        "    plt.legend()\n",
        "    plt.title(feat[i])\n",
        "plt.show()"
      ],
      "metadata": {
        "colab": {
          "base_uri": "https://localhost:8080/",
          "height": 607
        },
        "id": "flseNpUdVaoW",
        "outputId": "1cd03285-f66e-4b37-a3c5-0bbb1f84a6fa"
      },
      "execution_count": 28,
      "outputs": [
        {
          "output_type": "display_data",
          "data": {
            "text/plain": [
              "<Figure size 1080x720 with 6 Axes>"
            ],
            "image/png": "[encoded data removed]"
          },
          "metadata": {
            "needs_background": "light"
          }
        }
      ]
    }
  ],
  "metadata": {
    "colab": {
      "name": "ML_trainig.ipynb",
      "provenance": [],
      "collapsed_sections": [
        "rM9HJYyVywDN",
        "9lR2DbaQy694",
        "Aa-zA_dQzDKi"
      ],
      "include_colab_link": true
    },
    "kernelspec": {
      "display_name": "Python 3",
      "name": "python3"
    },
    "language_info": {
      "name": "python"
    },
    "accelerator": "GPU",
    "gpuClass": "standard"
  },
  "nbformat": 4,
  "nbformat_minor": 0
}